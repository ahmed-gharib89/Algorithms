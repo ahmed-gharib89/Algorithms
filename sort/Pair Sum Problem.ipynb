{
 "cells": [
  {
   "cell_type": "markdown",
   "metadata": {
    "graffitiCellId": "id_chbughc"
   },
   "source": [
    "We saw a *similar* problem earlier in **Data Structures** course, **Maps and Hashing** lesson. There, we used an additional space to create a dictionary in order to solve the problem. \n",
    "\n",
    "\n",
    "## Problem Statement\n",
    "\n",
    "Given an input array and a target value (integer), find two values in the array whose sum is equal to the target value. Solve the problem **without using extra space**. You can assume the array has unique values and will never have more than one solution."
   ]
  },
  {
   "cell_type": "code",
   "execution_count": 1,
   "metadata": {
    "graffitiCellId": "id_9rkom1w"
   },
   "outputs": [],
   "source": [
    "def pair_sum(arr, target):\n",
    "    \"\"\"\n",
    "    :param: arr - input array\n",
    "    :param: target - target value\n",
    "    TODO: complete this method to find two numbers such that their sum is equal to the target\n",
    "    Return the two numbers in the form of a sorted list\n",
    "    \"\"\"\n",
    "    pass"
   ]
  },
  {
   "cell_type": "markdown",
   "metadata": {
    "graffitiCellId": "id_z5auf94"
   },
   "source": [
    "<span class=\"graffiti-highlight graffiti-id_z5auf94-id_mxw6vbb\"><i></i><button>Show Solution</button></span>"
   ]
  },
  {
   "cell_type": "code",
   "execution_count": 3,
   "metadata": {
    "graffitiCellId": "id_3eusmdv"
   },
   "outputs": [],
   "source": [
    "def test_function(test_case):\n",
    "    input_list = test_case[0]\n",
    "    target =test_case[1]\n",
    "    solution = test_case[2]\n",
    "    output = pair_sum(input_list, target)\n",
    "    if output == solution:\n",
    "        print(\"Pass\")\n",
    "    else:\n",
    "        print(\"False\")\n",
    "\n"
   ]
  },
  {
   "cell_type": "code",
   "execution_count": null,
   "metadata": {
    "graffitiCellId": "id_lt2ac2g"
   },
   "outputs": [],
   "source": [
    "input_list = [2, 7, 11, 15]\n",
    "target = 9\n",
    "solution = [2, 7]\n",
    "test_case = [input_list, target, solution]\n",
    "test_function(test_case)"
   ]
  },
  {
   "cell_type": "code",
   "execution_count": null,
   "metadata": {
    "graffitiCellId": "id_p8o19gq"
   },
   "outputs": [],
   "source": [
    "input_list = [0, 8, 5, 7, 9]\n",
    "target = 9\n",
    "solution = [0, 9]\n",
    "test_case = [input_list, target, solution]\n",
    "test_function(test_case)"
   ]
  },
  {
   "cell_type": "code",
   "execution_count": null,
   "metadata": {
    "graffitiCellId": "id_f0dyr3c"
   },
   "outputs": [],
   "source": [
    "input_list = [110, 9, 89]\n",
    "target = 9\n",
    "solution = [None, None]\n",
    "test_case = [input_list, target, solution]\n",
    "test_function(test_case)"
   ]
  }
 ],
 "metadata": {
  "graffiti": {
   "firstAuthorId": "dev",
   "id": "id_v3szme8",
   "language": "EN"
  },
  "kernelspec": {
   "display_name": "Python 3",
   "language": "python",
   "name": "python3"
  },
  "language_info": {
   "codemirror_mode": {
    "name": "ipython",
    "version": 3
   },
   "file_extension": ".py",
   "mimetype": "text/x-python",
   "name": "python",
   "nbconvert_exporter": "python",
   "pygments_lexer": "ipython3",
   "version": "3.6.3"
  }
 },
 "nbformat": 4,
 "nbformat_minor": 2
}
