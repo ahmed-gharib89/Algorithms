{
 "cells": [
  {
   "cell_type": "markdown",
   "metadata": {},
   "source": [
    "# Guess the number\n",
    "\n",
    "This notebook simulates a classic game where you have to guess a random number from within a certain range. Typically, you might have to guess a number from 1 to 10, and have three guesses to get the right answer.\n",
    "\n",
    "In this case, you'll need to guess a random number between 1 and 100, and you will have 7 tries.\n",
    "\n",
    "Try running it and playing a round or two. Notice that the game always tells you whether your guess was too high or too low. This information allows you to rule out some of the numbers (so that you don't waste time guessing those numbers).\n",
    "\n",
    "With this fact in mind, try to make your guesses in the most efficient way you can. Specifically, try to make guesses that rule out the largest number of possibilities each time."
   ]
  },
  {
   "cell_type": "code",
   "execution_count": null,
   "metadata": {},
   "outputs": [],
   "source": [
    "import random\n",
    "\n",
    "def guess_the_number(total_tries, start_range, end_range):\n",
    "    if start_range > end_range:\n",
    "        start_range, end_range = end_range, start_range\n",
    "        \n",
    "    random_number = random.randint(start_range, end_range)\n",
    "    try_count = 0\n",
    "    success_message = \"Awesome! You guessed correctly\"\n",
    "    failure_message = \"Sorry! No more retries left\"\n",
    "    miss_message = \"Oops! That's incorrect\"\n",
    "    \n",
    "    num_tries = 0\n",
    "    while num_tries < total_tries:\n",
    "        attempt = int(input(\"Guess the number: \"))\n",
    "        \n",
    "        if attempt == random_number:\n",
    "            print(success_message)\n",
    "            return\n",
    "        print(miss_message)\n",
    "        if attempt < random_number:\n",
    "            print(\"Go higher!\")\n",
    "        else:\n",
    "            print(\"Go lower!\")\n",
    "        num_tries += 1\n",
    "    print(failure_message)\n",
    "\n",
    "total_tries = 7\n",
    "start_range = 1\n",
    "end_range = 100\n",
    "guess_the_number(total_tries, start_range, end_range)"
   ]
  },
  {
   "cell_type": "markdown",
   "metadata": {},
   "source": []
  }
 ],
 "metadata": {
  "kernelspec": {
   "display_name": "Python 3",
   "language": "python",
   "name": "python3"
  },
  "language_info": {
   "codemirror_mode": {
    "name": "ipython",
    "version": 3
   },
   "file_extension": ".py",
   "mimetype": "text/x-python",
   "name": "python",
   "nbconvert_exporter": "python",
   "pygments_lexer": "ipython3",
   "version": "3.6.3"
  }
 },
 "nbformat": 4,
 "nbformat_minor": 2
}
