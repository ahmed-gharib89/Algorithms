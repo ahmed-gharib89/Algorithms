{
 "cells": [
  {
   "cell_type": "markdown",
   "metadata": {
    "graffitiCellId": "id_8qbo8lo"
   },
   "source": [
    "# Heapsort\n",
    "\n",
    "A heapsort is an in-place sorting algorithm that treats an array like a binary tree and moves the largest values to the end of the heap until the full array is sorted.  \n",
    "\n",
    "The main steps in a heapsort are:\n",
    "1. Convert the array into a maxheap (a complete binary tree with decreasing values) \n",
    "2. Swap the top element with the last element in the array (putting it in it's correct final position)\n",
    "3. Repeat with `arr[:len(arr)-1]` (all but the sorted elements)\n",
    "\n",
    "## Visualization of a heapsort\n",
    "![animation of a heap sort](https://upload.wikimedia.org/wikipedia/commons/4/4d/Heapsort-example.gif)\n",
    "\n",
    "[\"Heapsort example\"](https://commons.wikimedia.org/wiki/File:Heapsort-example.gif) by Swfung8. Used under [CC BY-SA 3.0](https://creativecommons.org/licenses/by-sa/3.0/deed.en).\n",
    "\n",
    "## Problem statement\n",
    "\n",
    "In the cell below, see if you can code a `heapsort` function that takes an array (or Python list) and performs a heapsort on it. You will have to complete the heapify"
   ]
  },
  {
   "cell_type": "code",
   "execution_count": 1,
   "metadata": {},
   "outputs": [],
   "source": [
    "def heapsort(arr):\n",
    "    heapify(arr, len(arr), 0)\n",
    "    \n",
    "def heapify():\n",
    "    \"\"\"\n",
    "    :param: arr - array to heapify\n",
    "    n -- number of elements in the array\n",
    "    i -- index of the current node\n",
    "    TODO: Converts an array (in place) into a maxheap, a complete binary tree with the largest values at the top\n",
    "    \"\"\""
   ]
  },
  {
   "cell_type": "markdown",
   "metadata": {
    "graffitiCellId": "id_1h50lwk"
   },
   "source": [
    "<span class=\"graffiti-highlight graffiti-id_1h50lwk-id_kuae7he\"><i></i><button>Hide Solution</button></span>"
   ]
  },
  {
   "cell_type": "code",
   "execution_count": 5,
   "metadata": {
    "graffitiCellId": "id_kuae7he"
   },
   "outputs": [],
   "source": [
    "# Solution\n",
    "\n",
    "def heapify(arr, n, i):\n",
    "    # Using i as the index of the current node, find the 2 child nodes (if the array were a binary tree)\n",
    "    # and find the largest value.   If one of the children is larger swap the values and recurse into that subree\n",
    "    \n",
    "    # consider current index as largest\n",
    "    largest_index = i \n",
    "    left_node = 2 * i + 1     \n",
    "    right_node = 2 * i + 2     \n",
    "  \n",
    "    # compare with left child\n",
    "    if left_node < n and arr[i] < arr[left_node]: \n",
    "        largest_index = left_node\n",
    "  \n",
    "    # compare with right child\n",
    "    if right_node < n and arr[largest_index] < arr[right_node]: \n",
    "        largest_index = right_node\n",
    "  \n",
    "    # if either of left / right child is the largest node\n",
    "    if largest_index != i: \n",
    "        arr[i], arr[largest_index] = arr[largest_index], arr[i] \n",
    "    \n",
    "        heapify(arr, n, largest_index) \n",
    "        \n",
    "def heapsort(arr):\n",
    "    # First convert the array into a maxheap by calling heapify on each node, starting from the end   \n",
    "    # now that you have a maxheap, you can swap the first element (largest) to the end (final position)\n",
    "    # and make the array minus the last element into maxheap again.  Continue to do this until the whole\n",
    "    # array is sorted\n",
    "    n = len(arr) \n",
    "  \n",
    "    # Build a maxheap. \n",
    "    for i in range(n, -1, -1): \n",
    "        heapify(arr, n, i) \n",
    "  \n",
    "    # One by one extract elements \n",
    "    for i in range(n-1, 0, -1): \n",
    "        arr[i], arr[0] = arr[0], arr[i] # swap \n",
    "        heapify(arr, i, 0) "
   ]
  },
  {
   "cell_type": "code",
   "execution_count": 6,
   "metadata": {},
   "outputs": [],
   "source": [
    "def test_function(test_case):\n",
    "    heapsort(test_case[0])\n",
    "    if test_case[0] == test_case[1]:\n",
    "        print(\"Pass\")\n",
    "    else:\n",
    "        print(\"False\")"
   ]
  },
  {
   "cell_type": "code",
   "execution_count": 7,
   "metadata": {
    "graffitiCellId": "id_5z02ebi"
   },
   "outputs": [
    {
     "name": "stdout",
     "output_type": "stream",
     "text": [
      "Pass\n"
     ]
    }
   ],
   "source": [
    "arr = [3, 7, 4, 6, 1, 0, 9, 8, 9, 4, 3, 5]\n",
    "solution = [0, 1, 3, 3, 4, 4, 5, 6, 7, 8, 9, 9]\n",
    "\n",
    "test_case = [arr, solution]\n",
    "\n",
    "test_function(test_case)\n"
   ]
  },
  {
   "cell_type": "code",
   "execution_count": 8,
   "metadata": {},
   "outputs": [
    {
     "name": "stdout",
     "output_type": "stream",
     "text": [
      "Pass\n"
     ]
    }
   ],
   "source": [
    "arr = [5, 5, 5, 3, 3, 3, 4, 4, 4, 4]\n",
    "solution = [3, 3, 3, 4, 4, 4, 4, 5, 5, 5]\n",
    "test_case = [arr, solution]\n",
    "test_function(test_case)\n"
   ]
  },
  {
   "cell_type": "code",
   "execution_count": 9,
   "metadata": {},
   "outputs": [
    {
     "name": "stdout",
     "output_type": "stream",
     "text": [
      "Pass\n"
     ]
    }
   ],
   "source": [
    "arr = [99]\n",
    "solution = [99]\n",
    "test_case = [arr, solution]\n",
    "test_function(test_case)\n"
   ]
  },
  {
   "cell_type": "code",
   "execution_count": 10,
   "metadata": {},
   "outputs": [
    {
     "name": "stdout",
     "output_type": "stream",
     "text": [
      "Pass\n"
     ]
    }
   ],
   "source": [
    "arr = [0, 1, 2, 5, 12, 21, 0]\n",
    "solution = [0, 0, 1, 2, 5, 12, 21]\n",
    "test_case = [arr, solution]\n",
    "test_function(test_case)\n"
   ]
  }
 ],
 "metadata": {
  "graffiti": {
   "firstAuthorId": "10694620118",
   "id": "id_57afwqr",
   "language": "EN"
  },
  "kernelspec": {
   "display_name": "Python 3",
   "language": "python",
   "name": "python3"
  },
  "language_info": {
   "codemirror_mode": {
    "name": "ipython",
    "version": 3
   },
   "file_extension": ".py",
   "mimetype": "text/x-python",
   "name": "python",
   "nbconvert_exporter": "python",
   "pygments_lexer": "ipython3",
   "version": "3.6.3"
  }
 },
 "nbformat": 4,
 "nbformat_minor": 2
}
